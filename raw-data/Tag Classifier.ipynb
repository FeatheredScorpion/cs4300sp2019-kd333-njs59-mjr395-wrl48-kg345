{
 "cells": [
  {
   "cell_type": "code",
   "execution_count": 476,
   "metadata": {
    "_cell_guid": "b1076dfc-b9ad-4769-8c92-a6c4dae69d19",
    "_uuid": "8f2839f25d086af736a60e9eeb907d3b93b6e0e5"
   },
   "outputs": [],
   "source": [
    "import re\n",
    "import time, datetime\n",
    "from collections import Counter\n",
    "\n",
    "import numpy as np # linear algebra\n",
    "import pandas as pd # data processing, CSV file I/O (e.g. pd.read_csv)\n",
    "\n",
    "from sklearn import datasets, metrics\n",
    "from sklearn.model_selection import train_test_split, cross_val_score, GridSearchCV\n",
    "from sklearn.naive_bayes import BernoulliNB\n",
    "from sklearn.svm import LinearSVC\n",
    "from sklearn.linear_model import LogisticRegression\n",
    "from sklearn.ensemble import RandomForestClassifier\n",
    "from sklearn.feature_extraction.text import TfidfVectorizer\n",
    "from sklearn.pipeline import make_pipeline, Pipeline, FeatureUnion\n",
    "from sklearn.preprocessing import FunctionTransformer, MultiLabelBinarizer\n",
    "from sklearn.multiclass import OneVsRestClassifier\n",
    "\n",
    "import matplotlib.pyplot as plt\n",
    "\n",
    "# Input data files are available in the \"../input/\" directory.\n",
    "# For example, running this (by clicking run or pressing Shift+Enter) will list the files in the input directory\n",
    "\n",
    "import os\n",
    "import json\n",
    "import string"
   ]
  },
  {
   "cell_type": "code",
   "execution_count": 477,
   "metadata": {},
   "outputs": [],
   "source": [
    "data = pd.read_json(\"tag-data.json\")\n",
    "datalist = data['drinks'].tolist()\n"
   ]
  },
  {
   "cell_type": "code",
   "execution_count": 478,
   "metadata": {},
   "outputs": [
    {
     "name": "stdout",
     "output_type": "stream",
     "text": [
      "['Bubbly', 'Fruity/Citrus-forward', 'Sweet', 'Dinner/Paired with food', 'Evening'] ['Johnnie Walker Double Black Scotch Whisky', 'Lemon juice', 'Grapefruit juice', 'Citrus Oleo-Saccharum', 'Victory Prima Pils Pilsner', 'Grapefruit half-wheel']\n"
     ]
    }
   ],
   "source": [
    "# preprocess tag data\n",
    "\n",
    "for drink in datalist:\n",
    "    flavors = drink['flavors']\n",
    "    if (len(drink['hours']) > 0):\n",
    "        flavors.extend(drink['hours'])\n",
    "#   flavors.extend(drink['tags'])\n",
    "#     if (len(drink['type']) > 0):\n",
    "#         flavors.append(drink['type'])\n",
    "    ing = []\n",
    "    for i in drink['ingredients']:\n",
    "        ingredient = i[1]\n",
    "        ing.append(ingredient)\n",
    "    drink['ingredients'] = ing\n",
    "\n",
    "    \n",
    "print(datalist[0]['flavors'], datalist[0]['ingredients'])"
   ]
  },
  {
   "cell_type": "code",
   "execution_count": 479,
   "metadata": {},
   "outputs": [
    {
     "name": "stdout",
     "output_type": "stream",
     "text": [
      "(2092, 6) (2092,)\n",
      "Counter({'Evening': 1443, 'Sweet': 1062, 'Afternoon': 985, 'Fruity/Citrus-forward': 804, 'Spirit-forward': 572, 'Dinner/Paired with food': 424, 'Sour': 406, 'Bubbly': 259, 'Bitter': 221, 'Aperitif': 210, 'Spicy': 148, 'Creamy': 146, 'Morning/Brunch': 128, 'Digestif': 120, 'Salty/Savory': 104, 'Nightcap': 89, 'Herbaceous': 33}) 17\n"
     ]
    }
   ],
   "source": [
    "\n",
    "X = pd.DataFrame(datalist)\n",
    "y = X.pop('flavors')\n",
    "print(X.shape, y.shape)\n",
    "\n",
    "t = [x for row in y for x in row]\n",
    "flavors = Counter(t)\n",
    "print(flavors, len(flavors))\n"
   ]
  },
  {
   "cell_type": "code",
   "execution_count": 480,
   "metadata": {
    "_cell_guid": "79c7e3d0-c299-4dcb-8224-4455121ee9b0",
    "_uuid": "d629ff2d2480ee46fbb7e2d37f6b5fab8052498a"
   },
   "outputs": [
    {
     "name": "stdout",
     "output_type": "stream",
     "text": [
      "[[0 0 0 ... 0 0 1]\n",
      " [1 0 0 ... 0 0 0]\n",
      " [0 0 1 ... 0 0 1]\n",
      " ...\n",
      " [0 1 0 ... 0 1 0]\n",
      " [1 0 0 ... 0 0 0]\n",
      " [0 0 0 ... 0 0 0]]\n",
      "(1882, 6) (1882, 17)\n",
      "Loaded: xTr (1882, 6) yTr (1882, 17) xTe (210, 6)\n",
      "Final Metadata Columns: ['ingredientCount']\n",
      "Processed: xTr_text (1882,) xTr_meta (1882, 1) yTr (1882, 17)\n"
     ]
    }
   ],
   "source": [
    "# data preprocessing\n",
    "yBin = mlb.fit_transform(y)\n",
    "print(yBin)\n",
    "xTr, xTe, yTr, yTe = train_test_split(X, yBin, test_size=0.10)\n",
    "\n",
    "print(xTr.shape, yTr.shape)\n",
    "print(\"Loaded:\",\"xTr\",xTr.shape,\"yTr\",yTr.shape,\"xTe\",xTe.shape)\n",
    "assert(xTr.shape[1] == xTe.shape[1])\n",
    "\n",
    "def preprocess_meta(xTr):\n",
    "    X = xTr.dropna(axis=1)\n",
    "    # X.loc[:,('created')] = pd.to_datetime(X.loc[:,'created']).dt.time.apply(lambda x: x.hour*60 + x.minute)\n",
    "    # X.loc[:,('has_link')] = X.loc[:,'text'].str.contains('http').astype(int)\n",
    "    X.loc[:,('ingredientCount')] = [ len(x) for x in X.loc[:,'ingredients'] ]\n",
    "        \n",
    "    return X[['ingredientCount']]\n",
    "\n",
    "# remove/replace useless text\n",
    "def preprocess_text(X):\n",
    "    # ingredient list to str and treat name as part of same doc\n",
    "    i = [ str(x[1]['name'] + ' ' + ' '.join(x[1]['ingredients'])) for x in X.iterrows() ]\n",
    "    \n",
    "    return np.array(i)\n",
    "\n",
    "# Preprocess the text data: get_text_data\n",
    "get_text_data = FunctionTransformer(\n",
    "    lambda x: preprocess_text(x),\n",
    "    validate=False\n",
    ")\n",
    "# Preprocess the numeric data: get_numeric_data\n",
    "get_meta_data = FunctionTransformer(\n",
    "    # use useful metadata and create/modify features from xTr cols\n",
    "    lambda x: preprocess_meta(x),\n",
    "    validate=False)\n",
    "print(\"Final Metadata Columns:\",list(get_meta_data.transform(xTr)))\n",
    "print(\"Processed:\",\n",
    "      \"xTr_text\",get_text_data.transform(xTr).shape,\n",
    "      \"xTr_meta\",get_meta_data.transform(xTr).shape,\n",
    "      \"yTr\",yTr.shape)"
   ]
  },
  {
   "cell_type": "code",
   "execution_count": 481,
   "metadata": {},
   "outputs": [],
   "source": [
    "# model configuration\n",
    "\n",
    "# vectorize unlabeled testing and training data text\n",
    "vectorizer = TfidfVectorizer(\n",
    "    analyzer='word',\n",
    "    norm=None,\n",
    ")\n",
    "\n",
    "# default model\n",
    "default_model = LogisticRegression(solver='lbfgs', max_iter=1000); #best(?)\n",
    "# default_model = LinearSVC(max_iter=100000);\n",
    "# default_model = BernoulliNB()\n",
    "# default_model = RandomForestClassifier()"
   ]
  },
  {
   "cell_type": "code",
   "execution_count": null,
   "metadata": {
    "_uuid": "2d70b2734be94d775a4b6818c47ffc39e2095d2c"
   },
   "outputs": [
    {
     "name": "stderr",
     "output_type": "stream",
     "text": [
      "/Library/Frameworks/Python.framework/Versions/3.5/lib/python3.5/site-packages/sklearn/metrics/classification.py:1143: UndefinedMetricWarning: F-score is ill-defined and being set to 0.0 in samples with no predicted labels.\n",
      "  'precision', 'predicted', average, warn_for)\n",
      "/Library/Frameworks/Python.framework/Versions/3.5/lib/python3.5/site-packages/sklearn/metrics/classification.py:1145: UndefinedMetricWarning: F-score is ill-defined and being set to 0.0 in samples with no true labels.\n",
      "  'recall', 'true', average, warn_for)\n"
     ]
    }
   ],
   "source": [
    "# add more features\n",
    "\n",
    "start_time=time.time()\n",
    "pipe = Pipeline([\n",
    "    ('union', FeatureUnion( # add both text and metadata to xTr\n",
    "        transformer_list = [\n",
    "            ('numeric_features', Pipeline([\n",
    "                ('selector', get_meta_data)\n",
    "            ])),\n",
    "            ('text_features', Pipeline([\n",
    "                ('selector', get_text_data),\n",
    "                ('vectorizer', vectorizer)\n",
    "            ]))\n",
    "        ]\n",
    "    )),\n",
    "    ('clf', OneVsRestClassifier(default_model))\n",
    "])\n",
    "\n",
    "param_grid = {'union__text_features__vectorizer__max_features': [10000, 30000],\n",
    "              # 'clf__estimator__C': [0.1, 1]\n",
    "             } \n",
    "grid = GridSearchCV(pipe, param_grid, cv=6, scoring='f1_samples')\n",
    "grid4 = grid.fit(xTr, yTr)\n",
    "\n",
    "print('Accuracy score:',grid4.best_score_)\n",
    "print('Best params:',grid4.best_params_)\n",
    "print('Estimator:',grid4.estimator)\n",
    "\n",
    "end_time=time.time()\n",
    "print(\"Pipeline time:\",end_time-start_time)\n"
   ]
  },
  {
   "cell_type": "code",
   "execution_count": null,
   "metadata": {
    "_uuid": "97366346b72c100e85e495f8ff7d1689bf4031d1"
   },
   "outputs": [],
   "source": [
    "pred = grid4.predict(xTe)\n",
    "pred_inv = mlb.inverse_transform(pred)\n",
    "actual = mlb.inverse_transform(yTe)\n",
    "xTe = xTe.assign(label = pred_inv)\n",
    "xTe = xTe.assign(actual = actual)\n",
    "print(xTe[:10])\n",
    "\n",
    "\n",
    "precision, recall, fscore, support = metrics.precision_recall_fscore_support(yTe, pred, average='weighted')\n",
    "print('precision: {}'.format(precision))\n",
    "print('recall: {}'.format(recall))\n",
    "print('f1score: {}'.format(fscore))\n",
    "print('support: {}'.format(support))\n"
   ]
  },
  {
   "cell_type": "code",
   "execution_count": null,
   "metadata": {
    "_uuid": "9ee369c3065c109f39dc426671331a2bcb8eca92"
   },
   "outputs": [],
   "source": [
    "# run on actual drink list\n",
    "with open('../app/static/drinks-with-related.json', 'r') as infile:  \n",
    "    jsonData = json.load(infile)\n",
    "    drinklst = jsonData['drinks']\n",
    "    drinks = pd.DataFrame(drinklst)\n",
    "    \n",
    "    pred = grid4.predict(drinks)\n",
    "    pred = mlb.inverse_transform(pred)\n",
    "    \n",
    "    drinks['tags'] = pred\n",
    "    print(drinks[:10])\n",
    "    "
   ]
  },
  {
   "cell_type": "code",
   "execution_count": null,
   "metadata": {},
   "outputs": [],
   "source": [
    "jsondata = {}\n",
    "jsondata['drinks'] = []\n",
    "for i, drink in drinks.iterrows():\n",
    "    try:\n",
    "        ing = [(b +\" \" + a) for (a,b) in drink['ingredients'] if a != \"\"]\n",
    "    except ValueError:\n",
    "        ing = [a for a in drink['ingredients'] if a != \"\"]\n",
    "        \n",
    "    if 'instructions' in drink:\n",
    "        drink['description'] = drink['instructions']\n",
    "    \n",
    "    jsondata['drinks'].append({\n",
    "        'name' : drink['name'],\n",
    "        'description' : drink['description'],\n",
    "        'src' : drink['src'],\n",
    "        'ingredients' : ing,\n",
    "        'rating' : drink['rating'],\n",
    "        'reviews' : drink.get('reviews', []),\n",
    "        'categories' : drink.get('categories', []),\n",
    "        'related' : drink.get('related', []),\n",
    "        'tags' : drink.get('tags', [])\n",
    "    })"
   ]
  },
  {
   "cell_type": "code",
   "execution_count": null,
   "metadata": {},
   "outputs": [],
   "source": [
    "with open('../app/static/drinks-with-related-and-tags.json', 'w') as outfile:  \n",
    "    json.dump(jsondata, outfile)"
   ]
  },
  {
   "cell_type": "code",
   "execution_count": null,
   "metadata": {},
   "outputs": [],
   "source": []
  }
 ],
 "metadata": {
  "kernelspec": {
   "display_name": ".venv2",
   "language": "python",
   "name": ".venv2"
  },
  "language_info": {
   "codemirror_mode": {
    "name": "ipython",
    "version": 3
   },
   "file_extension": ".py",
   "mimetype": "text/x-python",
   "name": "python",
   "nbconvert_exporter": "python",
   "pygments_lexer": "ipython3",
   "version": "3.5.2"
  }
 },
 "nbformat": 4,
 "nbformat_minor": 1
}
