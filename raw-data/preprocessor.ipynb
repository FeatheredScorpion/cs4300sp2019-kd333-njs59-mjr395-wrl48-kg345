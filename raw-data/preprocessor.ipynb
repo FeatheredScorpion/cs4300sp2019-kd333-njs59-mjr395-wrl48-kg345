{
 "cells": [
  {
   "cell_type": "code",
   "execution_count": 1,
   "metadata": {},
   "outputs": [],
   "source": [
    "import json, urllib, csv, locale, collections"
   ]
  },
  {
   "cell_type": "code",
   "execution_count": 58,
   "metadata": {},
   "outputs": [],
   "source": [
    "drinkByName = dict()\n",
    "\n",
    "with open('../app/static/drinks.json', 'r') as infile:  \n",
    "    jsonData = json.load(infile)\n",
    "    drinklst = jsonData['drinks']\n",
    "\n",
    "for drink in drinklst:\n",
    "    drinkByName[drink['name']] = drink"
   ]
  },
  {
   "cell_type": "code",
   "execution_count": 59,
   "metadata": {},
   "outputs": [
    {
     "name": "stdout",
     "output_type": "stream",
     "text": [
      "2129\n"
     ]
    }
   ],
   "source": [
    "print(len(drinkByName))"
   ]
  },
  {
   "cell_type": "code",
   "execution_count": 109,
   "metadata": {},
   "outputs": [],
   "source": [
    "def in_db(drink):\n",
    "    return not (drinkByName.get(drink['name'], False) == False)\n",
    "\n",
    "def add_to_db(drink):\n",
    "    name = drink['name']\n",
    "    if (drinkByName.get(name, False)): # if drink in db\n",
    "        old = drinkByName.get(name, False)\n",
    "        for key, value in drink.items():\n",
    "            # update check\n",
    "            oldvalue = old.get(key, False)\n",
    "            if (\n",
    "                oldvalue != value and ( # old value not same as new\n",
    "                oldvalue == False # old doesnt have key\n",
    "                or oldvalue == [] # or empty data\n",
    "                or oldvalue == ''\n",
    "                or oldvalue == None\n",
    "                or oldvalue == {}\n",
    "                )):\n",
    "                print(old)\n",
    "                drinkByName[name] = drink\n",
    "                return True\n",
    "    else: # not already in db\n",
    "        drinkByName[name] = drink\n",
    "        return True\n",
    "    \n",
    "    return False"
   ]
  },
  {
   "cell_type": "code",
   "execution_count": 110,
   "metadata": {},
   "outputs": [],
   "source": [
    "locale.setlocale( locale.LC_ALL, 'en_US.UTF-8' ) \n",
    "\n",
    "def mr_boston():\n",
    "    with open('mr-boston-flattened-categories.csv') as csvfile:\n",
    "        reader = csv.reader(csvfile, delimiter=',')\n",
    "        line_count = 0\n",
    "        add_count = 0\n",
    "        for row in reader:\n",
    "            line_count += 1\n",
    "            \n",
    "            if line_count == 1:\n",
    "                print(row, len(row))\n",
    "                print(row[18:], len(row[18:]))\n",
    "                \n",
    "            else:\n",
    "\n",
    "                name = row[0]\n",
    "\n",
    "                ingredients = list()\n",
    "                for i in range(0, 6):\n",
    "                    ing = (row[3+i*2], row[2+i*2])\n",
    "                    ingredients.append(ing)\n",
    "                    \n",
    "                categories = list()\n",
    "                for i in range(18, 37):\n",
    "                    if (row[i] != ''):\n",
    "                        categories.append(row[i].lower())\n",
    "\n",
    "                drink = dict()\n",
    "                drink['name'] = name\n",
    "                drink['ingredients'] = ingredients\n",
    "                drink['description'] = row[14]\n",
    "                drink['src'] = \"http://worldartsme.com/images/cocktail-glass-clipart-1.jpg\"\n",
    "                \n",
    "                drink['reviews'] = []\n",
    "                drink['rating'] = -1\n",
    "                \n",
    "                drink['categories'] = categories\n",
    "\n",
    "                #drink = DrinkInfo(name=name, ingredients=ingredients, instructions=row[14], #glass=(row[15], row[16]),\n",
    "                #                 src = \"http://worldartsme.com/images/cocktail-glass-clipart-1.jpg\")\n",
    "                \n",
    "                add_to_db(drink)\n",
    "                add_count += 1\n",
    "        print(add_count)"
   ]
  },
  {
   "cell_type": "code",
   "execution_count": 111,
   "metadata": {},
   "outputs": [
    {
     "name": "stdout",
     "output_type": "stream",
     "text": [
      "['name', 'category', 'measurement-1', 'ingredient-1', 'measurement-2', 'ingredient-2', 'measurement-3', 'ingredient-3', 'measurement-4', 'ingredient-4', 'measurement-5', 'ingredient-5', 'measurement-6', 'ingredient-6', 'instructions', 'glass', 'glass-size', '', 'Fall', 'Winter', 'Spring', 'Summer', 'Morning', 'Afternoon', 'Night', 'Party', 'Dinner Party', 'Chinese New Year', 'St. Patricks Day', 'Thanksgiving', 'Halloween', 'Sports', 'Easter', 'Graduation', 'New Years', 'Birthday', 'Christmas'] 37\n",
      "['Fall', 'Winter', 'Spring', 'Summer', 'Morning', 'Afternoon', 'Night', 'Party', 'Dinner Party', 'Chinese New Year', 'St. Patricks Day', 'Thanksgiving', 'Halloween', 'Sports', 'Easter', 'Graduation', 'New Years', 'Birthday', 'Christmas'] 19\n",
      "990\n",
      "2200\n"
     ]
    }
   ],
   "source": [
    "mr_boston()\n",
    "print(len(drinkByName))"
   ]
  },
  {
   "cell_type": "code",
   "execution_count": 112,
   "metadata": {},
   "outputs": [
    {
     "name": "stdout",
     "output_type": "stream",
     "text": [
      "0 546 2200\n"
     ]
    }
   ],
   "source": [
    "with open('all_drinks.csv') as csvfile:\n",
    "    reader = csv.reader(csvfile, delimiter=',')\n",
    "    line_count = 0\n",
    "    dup_count = 0\n",
    "    add_count = 0\n",
    "    for row in reader:\n",
    "        line_count += 1\n",
    "        #if line_count == 1:\n",
    "        #    print(row)\n",
    "            \n",
    "        if line_count != 1:\n",
    "            \n",
    "            name = row[1]\n",
    "            \n",
    "            ingredients = list()\n",
    "            ing = (row[9], row[25])\n",
    "            ingredients.append(ing)\n",
    "            for i in range(7,15):\n",
    "                ing = (row[9+i], row[25+i])\n",
    "                ingredients.append(ing)\n",
    "            for i in range(1, 7):\n",
    "                ing = (row[9+i], row[25+i])\n",
    "                ingredients.append(ing)\n",
    "                \n",
    "            src = row[6]\n",
    "\n",
    "            drink = dict()\n",
    "            drink['name'] = name\n",
    "            drink['ingredients'] = ingredients\n",
    "            drink['description'] = row[24]\n",
    "            drink['src'] = src\n",
    "            \n",
    "            drink['reviews'] = []\n",
    "            drink['rating'] = -1\n",
    "            \n",
    "            add_to_db(drink)\n",
    "            add_count += 1\n",
    "        \n",
    "    print(dup_count, add_count, len(drinkByName))\n",
    "            \n",
    "        "
   ]
  },
  {
   "cell_type": "code",
   "execution_count": 127,
   "metadata": {},
   "outputs": [],
   "source": [
    "## import glob, os\n",
    "from urllib.request import urlopen\n",
    "from bs4 import BeautifulSoup\n",
    "import time, random\n",
    "\n",
    "def drink_scraper(url):\n",
    "    page = urlopen(url)\n",
    "\n",
    "    soup = BeautifulSoup(page, 'html.parser')\n",
    "    \n",
    "    drink = dict()\n",
    "    \n",
    "    name = soup.find('h1', attrs={'id':\"recipe-main-content\"})\n",
    "    drink['name'] = name.text.strip()\n",
    "    \n",
    "    # REMOVE THIS IF YOU WANT TO UPDATE REVIEWS\n",
    "    # WILL SKIP DRINKS ALREADY IN DB\n",
    "    if(in_db(drink)): \n",
    "        print('SKIPPING ',drink['name'])\n",
    "        return False\n",
    "    \n",
    "    photo = soup.find('img', attrs={'class':'rec-photo'})\n",
    "    drink['src'] = photo['src']\n",
    "    \n",
    "    drink['ingredients'] = list()\n",
    "    \n",
    "    for i in soup.find_all('span', attrs={'itemprop':'recipeIngredient'}):\n",
    "        drink['ingredients'].append(i.text.strip())\n",
    "        \n",
    "    instr = list()\n",
    "    \n",
    "    for d in soup.find_all('span', attrs={'class':'recipe-directions__list--item'}):\n",
    "        instr.append(d.text.strip())\n",
    "        \n",
    "    drink['description'] = '\\n'.join(instr)\n",
    "    \n",
    "    staravg = soup.find('div', attrs={'class':'rating-stars'})\n",
    "    \n",
    "    drink['rating']= staravg['data-ratingstars']\n",
    "    \n",
    "    reviews = list()\n",
    "    \n",
    "        #for x in soup.find_all('div'): print(x)\n",
    "    for r in soup.find_all('div', attrs={'class':'review-container clearfix'}):\n",
    "        \n",
    "        rating = dict()\n",
    "        \n",
    "        review = r.find('a', attrs={'class':\"review-detail__link\"})\n",
    "        \n",
    "        reviewURL = urlopen(review['href'])\n",
    "        rsoup = BeautifulSoup(reviewURL, 'html.parser')\n",
    "        \n",
    "        stars = rsoup.find('div', attrs={'class':'review-detail__stars'})\n",
    "        stars = stars.find('span')\n",
    "        \n",
    "        rating['stars'] = stars['data-ratingstars']\n",
    "        \n",
    "        body = rsoup.find('p', attrs={'itemprop':'reviewBody'})\n",
    "        rating['body'] = body.text.strip()\n",
    "        \n",
    "        reviews.append(rating)\n",
    "        \n",
    "        time.sleep(random.randint(0,2))\n",
    "        \n",
    "        \n",
    "    drink['reviews'] = reviews\n",
    "    \n",
    "    return drink\n",
    "    \n",
    "    # For now, this version takes precedence\n",
    "    #if drink['name'] in drinkByName:\n",
    "        #print(drinkByName[drink['name']])\n",
    "        #drinkByName[drink['name']]['reviews'] = drink['reviews']\n",
    "        #drinkByName[drink['name']]['rating'] = drink['rating']\n",
    "    #drinkByName[drink['name']] = drink"
   ]
  },
  {
   "cell_type": "code",
   "execution_count": 129,
   "metadata": {},
   "outputs": [
    {
     "name": "stdout",
     "output_type": "stream",
     "text": [
      "SKIPPING  Easy Watermelon Martini\n",
      "SKIPPING  Diplomat Cocktail\n"
     ]
    },
    {
     "ename": "KeyboardInterrupt",
     "evalue": "",
     "output_type": "error",
     "traceback": [
      "\u001b[0;31m---------------------------------------------------------------------------\u001b[0m",
      "\u001b[0;31mKeyboardInterrupt\u001b[0m                         Traceback (most recent call last)",
      "\u001b[0;32m<ipython-input-129-78d09c5d2549>\u001b[0m in \u001b[0;36m<module>\u001b[0;34m()\u001b[0m\n\u001b[1;32m     27\u001b[0m \u001b[0;34m\u001b[0m\u001b[0m\n\u001b[1;32m     28\u001b[0m \u001b[0;31m#https://www.allrecipes.com/recipes/133/drinks/cocktails/\u001b[0m\u001b[0;34m\u001b[0m\u001b[0;34m\u001b[0m\u001b[0m\n\u001b[0;32m---> 29\u001b[0;31m \u001b[0mscrape_category\u001b[0m\u001b[0;34m(\u001b[0m\u001b[0;34m)\u001b[0m\u001b[0;34m\u001b[0m\u001b[0m\n\u001b[0m",
      "\u001b[0;32m<ipython-input-129-78d09c5d2549>\u001b[0m in \u001b[0;36mscrape_category\u001b[0;34m()\u001b[0m\n\u001b[1;32m     22\u001b[0m     \u001b[0;32mwhile\u001b[0m \u001b[0;32mTrue\u001b[0m\u001b[0;34m:\u001b[0m \u001b[0;31m###\u001b[0m\u001b[0;34m\u001b[0m\u001b[0m\n\u001b[1;32m     23\u001b[0m         \u001b[0mp\u001b[0m \u001b[0;34m=\u001b[0m \u001b[0murlopen\u001b[0m\u001b[0;34m(\u001b[0m\u001b[0;34m\"https://www.allrecipes.com/recipes/133/drinks/cocktails/?page=\"\u001b[0m \u001b[0;34m+\u001b[0m \u001b[0mstr\u001b[0m\u001b[0;34m(\u001b[0m\u001b[0mi\u001b[0m\u001b[0;34m)\u001b[0m\u001b[0;34m)\u001b[0m\u001b[0;34m\u001b[0m\u001b[0m\n\u001b[0;32m---> 24\u001b[0;31m         \u001b[0mscrape_category_page\u001b[0m\u001b[0;34m(\u001b[0m\u001b[0mp\u001b[0m\u001b[0;34m)\u001b[0m\u001b[0;34m\u001b[0m\u001b[0m\n\u001b[0m\u001b[1;32m     25\u001b[0m         \u001b[0mi\u001b[0m \u001b[0;34m+=\u001b[0m \u001b[0;36m1\u001b[0m\u001b[0;34m\u001b[0m\u001b[0m\n\u001b[1;32m     26\u001b[0m         \u001b[0mprint\u001b[0m\u001b[0;34m(\u001b[0m\u001b[0mi\u001b[0m\u001b[0;34m)\u001b[0m\u001b[0;34m\u001b[0m\u001b[0m\n",
      "\u001b[0;32m<ipython-input-129-78d09c5d2549>\u001b[0m in \u001b[0;36mscrape_category_page\u001b[0;34m(page)\u001b[0m\n\u001b[1;32m     16\u001b[0m             \u001b[0mprint\u001b[0m\u001b[0;34m(\u001b[0m\u001b[0;34m\"FAILED ON DRINK: \"\u001b[0m\u001b[0;34m+\u001b[0m\u001b[0mhref\u001b[0m\u001b[0;34m[\u001b[0m\u001b[0;34m'href'\u001b[0m\u001b[0;34m]\u001b[0m\u001b[0;34m)\u001b[0m\u001b[0;34m\u001b[0m\u001b[0m\n\u001b[1;32m     17\u001b[0m \u001b[0;34m\u001b[0m\u001b[0m\n\u001b[0;32m---> 18\u001b[0;31m         \u001b[0mtime\u001b[0m\u001b[0;34m.\u001b[0m\u001b[0msleep\u001b[0m\u001b[0;34m(\u001b[0m\u001b[0mrandom\u001b[0m\u001b[0;34m.\u001b[0m\u001b[0mrandint\u001b[0m\u001b[0;34m(\u001b[0m\u001b[0;36m1\u001b[0m\u001b[0;34m,\u001b[0m\u001b[0;36m4\u001b[0m\u001b[0;34m)\u001b[0m\u001b[0;34m)\u001b[0m\u001b[0;34m\u001b[0m\u001b[0m\n\u001b[0m\u001b[1;32m     19\u001b[0m \u001b[0;34m\u001b[0m\u001b[0m\n\u001b[1;32m     20\u001b[0m \u001b[0;32mdef\u001b[0m \u001b[0mscrape_category\u001b[0m\u001b[0;34m(\u001b[0m\u001b[0;34m)\u001b[0m\u001b[0;34m:\u001b[0m\u001b[0;34m\u001b[0m\u001b[0m\n",
      "\u001b[0;31mKeyboardInterrupt\u001b[0m: "
     ]
    }
   ],
   "source": [
    "def scrape_category_page(page):\n",
    "    soup = BeautifulSoup(page, 'html.parser')\n",
    "    \n",
    "    drinks = list()\n",
    "        \n",
    "    for drinkpage in soup.find_all('article', attrs={'class':'fixed-recipe-card'}):\n",
    "        try:\n",
    "            a = drinkpage.find('div', attrs={'class':'grid-card-image-container'})\n",
    "            href = a.find('a', href=True)\n",
    "            drink = drink_scraper(href['href'])\n",
    "            if(not (drink == False) and add_to_db(drink)):\n",
    "                print(drink['name'])\n",
    "            elif (not (drink == False)):\n",
    "                print('DUP:', drink['name'])\n",
    "        except:\n",
    "            print(\"FAILED ON DRINK: \"+href['href'])\n",
    "        \n",
    "        time.sleep(random.randint(1,4))\n",
    "        \n",
    "def scrape_category():\n",
    "    i = 27 #!!!! ### 42\n",
    "    while True: ###\n",
    "        p = urlopen(\"https://www.allrecipes.com/recipes/133/drinks/cocktails/?page=\" + str(i))\n",
    "        scrape_category_page(p)\n",
    "        i += 1\n",
    "        print(i)\n",
    "\n",
    "#https://www.allrecipes.com/recipes/133/drinks/cocktails/\n",
    "scrape_category()"
   ]
  },
  {
   "cell_type": "code",
   "execution_count": 130,
   "metadata": {},
   "outputs": [
    {
     "name": "stdout",
     "output_type": "stream",
     "text": [
      "2422\n"
     ]
    }
   ],
   "source": [
    "#print(drinkByName['Mai Tai']['reviews'][1])\n",
    "#p = urlopen(\"https://www.google.com/\")\n",
    "print(len(drinkByName))"
   ]
  },
  {
   "cell_type": "code",
   "execution_count": 131,
   "metadata": {},
   "outputs": [],
   "source": [
    "jsondata = {}\n",
    "jsondata['drinks'] = []\n",
    "for drink in drinkByName.values():\n",
    "    try:\n",
    "        ing = [(b +\" \" + a) for (a,b) in drink['ingredients'] if a != \"\"]\n",
    "    except ValueError:\n",
    "        ing = [a for a in drink['ingredients'] if a != \"\"]\n",
    "        \n",
    "    if 'instructions' in drink:\n",
    "        drink['description'] = drink['instructions']\n",
    "    \n",
    "    jsondata['drinks'].append({\n",
    "        'name' : drink['name'],\n",
    "        'description' : drink['description'],\n",
    "        'src' : drink['src'],\n",
    "        'ingredients' : ing,\n",
    "        'rating' : drink['rating'],\n",
    "        'reviews' : drink.get('reviews', []),\n",
    "        'categories' : drink.get('categories', []),\n",
    "    })"
   ]
  },
  {
   "cell_type": "code",
   "execution_count": null,
   "metadata": {},
   "outputs": [],
   "source": []
  },
  {
   "cell_type": "code",
   "execution_count": 132,
   "metadata": {},
   "outputs": [],
   "source": [
    "with open('../app/static/drinks.json', 'w') as outfile:  \n",
    "    json.dump(jsondata, outfile)"
   ]
  },
  {
   "cell_type": "code",
   "execution_count": null,
   "metadata": {},
   "outputs": [],
   "source": []
  }
 ],
 "metadata": {
  "kernelspec": {
   "display_name": "venv",
   "language": "python",
   "name": "venv"
  },
  "language_info": {
   "codemirror_mode": {
    "name": "ipython",
    "version": 3
   },
   "file_extension": ".py",
   "mimetype": "text/x-python",
   "name": "python",
   "nbconvert_exporter": "python",
   "pygments_lexer": "ipython3",
   "version": "3.5.2"
  }
 },
 "nbformat": 4,
 "nbformat_minor": 2
}
