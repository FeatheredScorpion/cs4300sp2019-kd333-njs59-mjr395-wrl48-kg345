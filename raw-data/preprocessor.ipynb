{
 "cells": [
  {
   "cell_type": "code",
   "execution_count": 1,
   "metadata": {},
   "outputs": [],
   "source": [
    "import json, urllib"
   ]
  },
  {
   "cell_type": "code",
   "execution_count": 5,
   "metadata": {},
   "outputs": [
    {
     "name": "stdout",
     "output_type": "stream",
     "text": [
      "['\\ufeffname', 'category', 'measurement-1', 'ingredient-1', 'measurement-2', 'ingredient-2', 'measurement-3', 'ingredient-3', 'measurement-4', 'ingredient-4', 'measurement-5', 'ingredient-5', 'measurement-6', 'ingredient-6', 'instructions', 'glass', 'glass-size']\n"
     ]
    }
   ],
   "source": [
    "import csv\n",
    "import locale\n",
    "import collections\n",
    "\n",
    "#DrinkInfo = collections.namedtuple('DrinkInfo', 'name ingredients instructions src')\n",
    "\n",
    "locale.setlocale( locale.LC_ALL, 'en_US.UTF-8' ) \n",
    "\n",
    "drinkByName = dict()\n",
    "\n",
    "with open('mr-boston-flattened.csv') as csvfile:\n",
    "    reader = csv.reader(csvfile, delimiter=',')\n",
    "    line_count = 0\n",
    "    \n",
    "    for row in reader:\n",
    "        line_count += 1\n",
    "        if line_count == 1:\n",
    "            print(row)\n",
    "            \n",
    "        else:\n",
    "            \n",
    "            name = row[0]\n",
    "            \n",
    "            ingredients = list()\n",
    "            for i in range(0, 6):\n",
    "                ing = (row[3+i*2], row[2+i*2])\n",
    "                ingredients.append(ing)\n",
    "            \n",
    "            drink = dict()\n",
    "            drink['name'] = name\n",
    "            drink['ingredients'] = ingredients\n",
    "            drink['instructions'] = row[14]\n",
    "            drink['src'] = \"http://worldartsme.com/images/cocktail-glass-clipart-1.jpg\"\n",
    "            \n",
    "            drink['reviews'] = []\n",
    "            drink['rating'] = -1\n",
    "            \n",
    "            #drink = DrinkInfo(name=name, ingredients=ingredients, instructions=row[14], #glass=(row[15], row[16]),\n",
    "            #                 src = \"http://worldartsme.com/images/cocktail-glass-clipart-1.jpg\")\n",
    "            \n",
    "            drinkByName[name] = drink"
   ]
  },
  {
   "cell_type": "code",
   "execution_count": 6,
   "metadata": {},
   "outputs": [
    {
     "name": "stdout",
     "output_type": "stream",
     "text": [
      "['', 'strDrink', 'dateModified', 'idDrink', 'strAlcoholic', 'strCategory', 'strDrinkThumb', 'strGlass', 'strIBA', 'strIngredient1', 'strIngredient10', 'strIngredient11', 'strIngredient12', 'strIngredient13', 'strIngredient14', 'strIngredient15', 'strIngredient2', 'strIngredient3', 'strIngredient4', 'strIngredient5', 'strIngredient6', 'strIngredient7', 'strIngredient8', 'strIngredient9', 'strInstructions', 'strMeasure1', 'strMeasure10', 'strMeasure11', 'strMeasure12', 'strMeasure13', 'strMeasure14', 'strMeasure15', 'strMeasure2', 'strMeasure3', 'strMeasure4', 'strMeasure5', 'strMeasure6', 'strMeasure7', 'strMeasure8', 'strMeasure9', 'strVideo']\n"
     ]
    }
   ],
   "source": [
    "with open('all_drinks.csv') as csvfile:\n",
    "    reader = csv.reader(csvfile, delimiter=',')\n",
    "    line_count = 0\n",
    "    \n",
    "    for row in reader:\n",
    "        line_count += 1\n",
    "        if line_count == 1:\n",
    "            print(row)\n",
    "            \n",
    "        else:\n",
    "            \n",
    "            name = row[1]\n",
    "            \n",
    "            ingredients = list()\n",
    "            ing = (row[9], row[25])\n",
    "            ingredients.append(ing)\n",
    "            for i in range(7,15):\n",
    "                ing = (row[9+i], row[25+i])\n",
    "                ingredients.append(ing)\n",
    "            for i in range(1, 7):\n",
    "                ing = (row[9+i], row[25+i])\n",
    "                ingredients.append(ing)\n",
    "                \n",
    "            src = row[6]\n",
    "            if src == '':\n",
    "                src = src = \"http://worldartsme.com/images/cocktail-glass-clipart-1.jpg\"\n",
    "            \n",
    "            drink = dict()\n",
    "            drink['name'] = name\n",
    "            drink['ingredients'] = ingredients\n",
    "            drink['instructions'] = row[24]\n",
    "            drink['src'] = src\n",
    "            \n",
    "            drink['reviews'] = []\n",
    "            drink['rating'] = -1\n",
    "            \n",
    "            #drink = DrinkInfo(name=name, ingredients=ingredients, instructions=row[24],\n",
    "            #                 src = src)\n",
    "            \n",
    "            drinkByName[name] = drink\n",
    "            \n",
    "        "
   ]
  },
  {
   "cell_type": "code",
   "execution_count": 7,
   "metadata": {},
   "outputs": [
    {
     "data": {
      "text/plain": [
       "\"\\nimport glob, os\\nfrom bs4 import BeautifulSoup\\n\\npath = './ratings'\\n\\nfor filename in glob.glob(os.path.join(path, '*.html')):\\n    file = open(filename, 'r')\\n    \\n    html_doc = file.read()\\n\\n    soup = BeautifulSoup(html_doc, 'html.parser')\\n\\n    #for x in soup.find_all('div'): print(x)\\n    for r in soup.find_all('p', attrs={'itemprop':'reviewBody'}):\\n        \\n        print(r)\\n        name = r.itemprop.strip() # strip() is used to remove starting and trailing\\n        #print(name)\\n    \""
      ]
     },
     "execution_count": 7,
     "metadata": {},
     "output_type": "execute_result"
    }
   ],
   "source": [
    "'''\n",
    "import glob, os\n",
    "from bs4 import BeautifulSoup\n",
    "\n",
    "path = './ratings'\n",
    "\n",
    "for filename in glob.glob(os.path.join(path, '*.html')):\n",
    "    file = open(filename, 'r')\n",
    "    \n",
    "    html_doc = file.read()\n",
    "\n",
    "    soup = BeautifulSoup(html_doc, 'html.parser')\n",
    "\n",
    "    #for x in soup.find_all('div'): print(x)\n",
    "    for r in soup.find_all('p', attrs={'itemprop':'reviewBody'}):\n",
    "        \n",
    "        print(r)\n",
    "        name = r.itemprop.strip() # strip() is used to remove starting and trailing\n",
    "        #print(name)\n",
    "    '''"
   ]
  },
  {
   "cell_type": "code",
   "execution_count": 14,
   "metadata": {},
   "outputs": [],
   "source": [
    "## import glob, os\n",
    "from urllib.request import urlopen\n",
    "from bs4 import BeautifulSoup\n",
    "\n",
    "def drink_scraper(url):\n",
    "    page = urlopen(url)\n",
    "\n",
    "    soup = BeautifulSoup(page, 'html.parser')\n",
    "    \n",
    "    drink = dict()\n",
    "    \n",
    "    name = soup.find('h1', attrs={'id':\"recipe-main-content\"})\n",
    "    drink['name'] = name.text.strip()\n",
    "    \n",
    "    photo = soup.find('img', attrs={'class':'rec-photo'})\n",
    "    drink['src'] = photo['src']\n",
    "    \n",
    "    drink['ingredients'] = list()\n",
    "    \n",
    "    for i in soup.find_all('span', attrs={'itemprop':'recipeIngredient'}):\n",
    "        drink['ingredients'].append(i.text.strip())\n",
    "        \n",
    "    instr = list()\n",
    "    \n",
    "    for d in soup.find_all('span', attrs={'class':'recipe-directions__list--item'}):\n",
    "        instr.append(d.text.strip())\n",
    "        \n",
    "    drink['instructions'] = '\\n'.join(instr)\n",
    "    \n",
    "    staravg = soup.find('div', attrs={'class':'rating-stars'})\n",
    "    \n",
    "    drink['rating']= staravg['data-ratingstars']\n",
    "    \n",
    "    reviews = list()\n",
    "    \n",
    "        #for x in soup.find_all('div'): print(x)\n",
    "    for review in soup.find_all('div', attrs={'class':'review-container clearfix'}):\n",
    "        \n",
    "        rating = dict()\n",
    "        \n",
    "        stars = review.find('span', attrs={'onclick':\"AnchorScroll('reviews')\"})\n",
    "        \n",
    "        rating['stars'] = stars['data-ratingstars']\n",
    "        \n",
    "        body = review.find('p', attrs={'itemprop':'reviewBody'})\n",
    "        rating['body'] = body.text.strip()\n",
    "        \n",
    "        reviews.append(rating)\n",
    "        \n",
    "    drink['reviews'] = reviews\n",
    "    \n",
    "    return drink\n",
    "    \n",
    "    # For now, this version takes precedence\n",
    "    #if drink['name'] in drinkByName:\n",
    "        #print(drinkByName[drink['name']])\n",
    "        #drinkByName[drink['name']]['reviews'] = drink['reviews']\n",
    "        #drinkByName[drink['name']]['rating'] = drink['rating']\n",
    "    #drinkByName[drink['name']] = drink"
   ]
  },
  {
   "cell_type": "code",
   "execution_count": null,
   "metadata": {},
   "outputs": [
    {
     "name": "stdout",
     "output_type": "stream",
     "text": [
      "Brenda's Strawberry Slush Delight\n",
      "Mai Tai\n",
      "Mojito Perfecto\n",
      "Caribbean Rum Punch\n",
      "Pina Colada III\n",
      "Frozen Lime Daiquiri\n",
      "Dark 'n' Stormy Cocktail\n",
      "Absolute Stress\n",
      "Shaggy's Hana Bay Frootie Joy\n",
      "Amazingly Good Eggnog\n",
      "Classic Spanish Sangria\n",
      "The Real Mojito\n",
      "Hot Buttered Rum Batter\n",
      "Coquito\n",
      "Bikini Martini\n",
      "Green Grog\n",
      "Bahama Mama\n",
      "Best Strawberry Daiquiri\n",
      "Colonial Hot Buttered Rum\n",
      "Hot Spiked Cider\n",
      "Christmas Creamy Eggnog\n",
      "The Perfect Mai Tai\n",
      "Pina Colada Punch\n",
      "Rum-Spiked Horchata\n",
      "Mrs. Baxton's Long Island Iced Tea\n",
      "Mojitos by the Pitcher\n",
      "2\n",
      "Hurricane I\n",
      "Single Cup Hot Buttered Rum\n",
      "Luscious Eggnog\n",
      "Mojito\n",
      "Christmas Punch\n",
      "Strawberry Mojito\n",
      "The REAL Long Island Iced Tea\n",
      "Caribbean Rum Punch\n",
      "Tanning Bed Drink\n",
      "Malibu Bay Breeze\n",
      "Frozen Mojito\n"
     ]
    }
   ],
   "source": [
    "#scrape page 1 of rum drinks\n",
    "import random, time\n",
    "\n",
    "def scrape_category_page(page):\n",
    "    soup = BeautifulSoup(page, 'html.parser')\n",
    "    \n",
    "    drinks = list()\n",
    "        \n",
    "    for drinkpage in soup.find_all('article', attrs={'class':'fixed-recipe-card'}):\n",
    "        a = drinkpage.find('div', attrs={'class':'grid-card-image-container'})\n",
    "        href = a.find('a', href=True)\n",
    "        drink = drink_scraper(href['href'])\n",
    "        print(drink['name'])\n",
    "        drinkByName[drink['name']] = drink\n",
    "        \n",
    "        time.sleep(5 + random.randint(0,8))\n",
    "        \n",
    "def scrape_category():\n",
    "    i = 1\n",
    "    while True:\n",
    "        #try:\n",
    "            p = urlopen(\"https://www.allrecipes.com/recipes/1741/drinks/cocktails/?page=\" + str(i))\n",
    "            scrape_category_page(p)\n",
    "            i += 1\n",
    "            print(i)\n",
    "        #except NameError:\n",
    "            #print(\"DONE!\")\n",
    "            #return\n",
    "\n",
    "#https://www.allrecipes.com/recipes/133/drinks/cocktails/\n",
    "scrape_category()"
   ]
  },
  {
   "cell_type": "code",
   "execution_count": 10,
   "metadata": {},
   "outputs": [],
   "source": [
    "#print(drinkByName['Mai Tai']['reviews'][1])\n",
    "#p = urlopen(\"https://www.google.com/\")"
   ]
  },
  {
   "cell_type": "code",
   "execution_count": null,
   "metadata": {},
   "outputs": [],
   "source": [
    "jsondata = {}\n",
    "jsondata['drinks'] = []\n",
    "for drink in drinkByName.values():\n",
    "    ing = [(b +\" \" + a) for (a,b) in drink['ingredients'] if a != \"\"]\n",
    "    jsondata['drinks'].append({\n",
    "        'name' : drink['name'],\n",
    "        'description' : drink['instructions'],\n",
    "        'src' : drink['src'],\n",
    "        'ingredients' : ing,\n",
    "        'rating' : drink['rating'],\n",
    "        'reviews' : drink['reviews']\n",
    "    })"
   ]
  },
  {
   "cell_type": "code",
   "execution_count": null,
   "metadata": {},
   "outputs": [],
   "source": [
    "with open('../app/static/drinks.json', 'w') as outfile:  \n",
    "    json.dump(jsondata, outfile)"
   ]
  },
  {
   "cell_type": "code",
   "execution_count": null,
   "metadata": {},
   "outputs": [],
   "source": []
  }
 ],
 "metadata": {
  "kernelspec": {
   "display_name": "venv",
   "language": "python",
   "name": "venv"
  },
  "language_info": {
   "codemirror_mode": {
    "name": "ipython",
    "version": 3
   },
   "file_extension": ".py",
   "mimetype": "text/x-python",
   "name": "python",
   "nbconvert_exporter": "python",
   "pygments_lexer": "ipython3",
   "version": "3.5.2"
  }
 },
 "nbformat": 4,
 "nbformat_minor": 2
}
