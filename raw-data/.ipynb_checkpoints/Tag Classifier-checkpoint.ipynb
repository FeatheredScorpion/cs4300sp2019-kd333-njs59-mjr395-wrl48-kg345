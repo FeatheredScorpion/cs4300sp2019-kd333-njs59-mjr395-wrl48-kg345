{
 "cells": [
  {
   "cell_type": "code",
   "execution_count": 128,
   "metadata": {
    "_cell_guid": "b1076dfc-b9ad-4769-8c92-a6c4dae69d19",
    "_uuid": "8f2839f25d086af736a60e9eeb907d3b93b6e0e5"
   },
   "outputs": [
    {
     "name": "stdout",
     "output_type": "stream",
     "text": [
      "['mr-boston-flattened.csv', 'temp', 'preprocessor.ipynb', 'flavor-data.json', 'prices.csv', 'mr-boston-flattened-categories.csv', 'all_drinks.csv', 'classifier.ipynb', '.ipynb_checkpoints', 'flavor-scraper.ipynb', 'SVD ingredients demo.ipynb']\n"
     ]
    }
   ],
   "source": [
    "import re\n",
    "import time, datetime\n",
    "from collections import Counter\n",
    "\n",
    "import numpy as np # linear algebra\n",
    "import pandas as pd # data processing, CSV file I/O (e.g. pd.read_csv)\n",
    "\n",
    "from sklearn import datasets, metrics\n",
    "from sklearn.model_selection import train_test_split, cross_val_score, GridSearchCV\n",
    "from sklearn.naive_bayes import BernoulliNB\n",
    "from sklearn.svm import LinearSVC\n",
    "from sklearn.linear_model import LogisticRegression\n",
    "from sklearn.feature_extraction.text import TfidfVectorizer\n",
    "from sklearn.pipeline import make_pipeline, Pipeline, FeatureUnion\n",
    "from sklearn.preprocessing import FunctionTransformer, MultiLabelBinarizer\n",
    "from sklearn.multiclass import OneVsRestClassifier\n",
    "\n",
    "import matplotlib.pyplot as plt\n",
    "\n",
    "# Input data files are available in the \"../input/\" directory.\n",
    "# For example, running this (by clicking run or pressing Shift+Enter) will list the files in the input directory\n",
    "\n",
    "import os\n",
    "import json\n",
    "print(os.listdir(\"./\"))"
   ]
  },
  {
   "cell_type": "code",
   "execution_count": 97,
   "metadata": {},
   "outputs": [
    {
     "name": "stdout",
     "output_type": "stream",
     "text": [
      "(609, 2) (609,)\n",
      "Counter({'Sweet': 399, 'Fruity': 162, 'Sour': 58, 'Spicy': 33, 'Savory': 26, 'Hot': 22, 'Frozen': 10, 'Beginner': 7}) 8\n"
     ]
    }
   ],
   "source": [
    "data = pd.read_json(\"flavor-data.json\")\n",
    "datalist = data['drinks'].tolist()\n",
    "X = pd.DataFrame(datalist)\n",
    "y = X.pop('flavors')\n",
    "print(X.shape, y.shape)\n",
    "\n",
    "t = [x for row in y for x in row]\n",
    "flavors = Counter(t)\n",
    "print(flavors, len(flavors))"
   ]
  },
  {
   "cell_type": "code",
   "execution_count": 133,
   "metadata": {
    "_cell_guid": "79c7e3d0-c299-4dcb-8224-4455121ee9b0",
    "_uuid": "d629ff2d2480ee46fbb7e2d37f6b5fab8052498a"
   },
   "outputs": [
    {
     "name": "stdout",
     "output_type": "stream",
     "text": [
      "[[0 0 0 ... 0 0 1]\n",
      " [0 0 0 ... 0 0 1]\n",
      " [0 0 0 ... 0 0 1]\n",
      " ...\n",
      " [0 1 1 ... 0 0 1]\n",
      " [0 0 0 ... 0 0 1]\n",
      " [0 0 0 ... 0 0 1]]\n",
      "(548, 2) (548, 8)\n",
      "Loaded: xTr (548, 2) yTr (548, 8) xTe (61, 2)\n",
      "Final Metadata Columns: []\n",
      "Processed: xTr_text (548,) xTr_meta (548, 0) yTr (548, 8)\n"
     ]
    }
   ],
   "source": [
    "# data preprocessing\n",
    "mlb = MultiLabelBinarizer()\n",
    "yBin = mlb.fit_transform(y)\n",
    "print(yBin)\n",
    "xTr, xTe, yTr, yTe = train_test_split(X, yBin, test_size=0.10)\n",
    "\n",
    "print(xTr.shape, yTr.shape)\n",
    "print(\"Loaded:\",\"xTr\",xTr.shape,\"yTr\",yTr.shape,\"xTe\",xTe.shape)\n",
    "assert(xTr.shape[1] == xTe.shape[1])\n",
    "\n",
    "def preprocess_meta(xTr):\n",
    "    X = xTr.dropna(axis=1)\n",
    "    # X.loc[:,('created')] = pd.to_datetime(X.loc[:,'created']).dt.time.apply(lambda x: x.hour*60 + x.minute)\n",
    "    # X.loc[:,('has_link')] = X.loc[:,'text'].str.contains('http').astype(int)\n",
    "    X.loc[:,('ingredientCount')] = len(X.loc[:,'ingredients'])\n",
    "    return X[[]]\n",
    "\n",
    "# remove/replace useless text\n",
    "def preprocess_text(txt_df):\n",
    "    # print(txt_df)\n",
    "    new_txt_df = txt_df.apply(lambda lst: ' '.join(lst))\n",
    "    return new_txt_df\n",
    "\n",
    "# Preprocess the text data: get_text_data\n",
    "get_text_data = FunctionTransformer(\n",
    "    lambda x: preprocess_text(x['ingredients']), # text column from xTr\n",
    "    validate=False\n",
    ")\n",
    "# Preprocess the numeric data: get_numeric_data\n",
    "get_meta_data = FunctionTransformer(\n",
    "    # use useful metadata and create/modify features from xTr cols\n",
    "    lambda x: preprocess_meta(x),\n",
    "    validate=False)\n",
    "print(\"Final Metadata Columns:\",list(get_meta_data.transform(xTr)))\n",
    "print(\"Processed:\",\n",
    "      \"xTr_text\",get_text_data.transform(xTr).shape,\n",
    "      \"xTr_meta\",get_meta_data.transform(xTr).shape,\n",
    "      \"yTr\",yTr.shape)"
   ]
  },
  {
   "cell_type": "code",
   "execution_count": 139,
   "metadata": {},
   "outputs": [],
   "source": [
    "# model configuration\n",
    "\n",
    "# vectorize unlabeled testing and training data text\n",
    "vectorizer = TfidfVectorizer(\n",
    "    min_df=1, # min word count\n",
    "    ngram_range=(1, 3), # use unigrams, bigrams, trigrams\n",
    "    stop_words='english', # remove articles, pronouns, common words\n",
    "    norm=None,\n",
    "    sublinear_tf=False,\n",
    ")\n",
    "\n",
    "# default model\n",
    "default_model = LogisticRegression(solver='lbfgs', max_iter=1000); #best(?)\n",
    "# default_model = LinearSVC(max_iter=100000); #slowest\n",
    "# default_model = BernoulliNB() #fastest"
   ]
  },
  {
   "cell_type": "code",
   "execution_count": 140,
   "metadata": {
    "_uuid": "2d70b2734be94d775a4b6818c47ffc39e2095d2c"
   },
   "outputs": [
    {
     "name": "stderr",
     "output_type": "stream",
     "text": [
      "/Library/Frameworks/Python.framework/Versions/3.5/lib/python3.5/site-packages/sklearn/metrics/classification.py:1143: UndefinedMetricWarning: F-score is ill-defined and being set to 0.0 in samples with no predicted labels.\n",
      "  'precision', 'predicted', average, warn_for)\n",
      "/Library/Frameworks/Python.framework/Versions/3.5/lib/python3.5/site-packages/sklearn/metrics/classification.py:1143: UndefinedMetricWarning: F-score is ill-defined and being set to 0.0 in samples with no predicted labels.\n",
      "  'precision', 'predicted', average, warn_for)\n",
      "/Library/Frameworks/Python.framework/Versions/3.5/lib/python3.5/site-packages/sklearn/metrics/classification.py:1143: UndefinedMetricWarning: F-score is ill-defined and being set to 0.0 in samples with no predicted labels.\n",
      "  'precision', 'predicted', average, warn_for)\n",
      "/Library/Frameworks/Python.framework/Versions/3.5/lib/python3.5/site-packages/sklearn/metrics/classification.py:1143: UndefinedMetricWarning: F-score is ill-defined and being set to 0.0 in samples with no predicted labels.\n",
      "  'precision', 'predicted', average, warn_for)\n",
      "/Library/Frameworks/Python.framework/Versions/3.5/lib/python3.5/site-packages/sklearn/metrics/classification.py:1143: UndefinedMetricWarning: F-score is ill-defined and being set to 0.0 in samples with no predicted labels.\n",
      "  'precision', 'predicted', average, warn_for)\n",
      "/Library/Frameworks/Python.framework/Versions/3.5/lib/python3.5/site-packages/sklearn/metrics/classification.py:1143: UndefinedMetricWarning: F-score is ill-defined and being set to 0.0 in samples with no predicted labels.\n",
      "  'precision', 'predicted', average, warn_for)\n",
      "/Library/Frameworks/Python.framework/Versions/3.5/lib/python3.5/site-packages/sklearn/metrics/classification.py:1143: UndefinedMetricWarning: F-score is ill-defined and being set to 0.0 in samples with no predicted labels.\n",
      "  'precision', 'predicted', average, warn_for)\n",
      "/Library/Frameworks/Python.framework/Versions/3.5/lib/python3.5/site-packages/sklearn/metrics/classification.py:1143: UndefinedMetricWarning: F-score is ill-defined and being set to 0.0 in samples with no predicted labels.\n",
      "  'precision', 'predicted', average, warn_for)\n",
      "/Library/Frameworks/Python.framework/Versions/3.5/lib/python3.5/site-packages/sklearn/metrics/classification.py:1143: UndefinedMetricWarning: F-score is ill-defined and being set to 0.0 in samples with no predicted labels.\n",
      "  'precision', 'predicted', average, warn_for)\n",
      "/Library/Frameworks/Python.framework/Versions/3.5/lib/python3.5/site-packages/sklearn/metrics/classification.py:1143: UndefinedMetricWarning: F-score is ill-defined and being set to 0.0 in samples with no predicted labels.\n",
      "  'precision', 'predicted', average, warn_for)\n",
      "/Library/Frameworks/Python.framework/Versions/3.5/lib/python3.5/site-packages/sklearn/metrics/classification.py:1143: UndefinedMetricWarning: F-score is ill-defined and being set to 0.0 in samples with no predicted labels.\n",
      "  'precision', 'predicted', average, warn_for)\n",
      "/Library/Frameworks/Python.framework/Versions/3.5/lib/python3.5/site-packages/sklearn/metrics/classification.py:1143: UndefinedMetricWarning: F-score is ill-defined and being set to 0.0 in samples with no predicted labels.\n",
      "  'precision', 'predicted', average, warn_for)\n",
      "/Library/Frameworks/Python.framework/Versions/3.5/lib/python3.5/site-packages/sklearn/metrics/classification.py:1143: UndefinedMetricWarning: F-score is ill-defined and being set to 0.0 in samples with no predicted labels.\n",
      "  'precision', 'predicted', average, warn_for)\n",
      "/Library/Frameworks/Python.framework/Versions/3.5/lib/python3.5/site-packages/sklearn/metrics/classification.py:1143: UndefinedMetricWarning: F-score is ill-defined and being set to 0.0 in samples with no predicted labels.\n",
      "  'precision', 'predicted', average, warn_for)\n",
      "/Library/Frameworks/Python.framework/Versions/3.5/lib/python3.5/site-packages/sklearn/metrics/classification.py:1143: UndefinedMetricWarning: F-score is ill-defined and being set to 0.0 in samples with no predicted labels.\n",
      "  'precision', 'predicted', average, warn_for)\n",
      "/Library/Frameworks/Python.framework/Versions/3.5/lib/python3.5/site-packages/sklearn/metrics/classification.py:1143: UndefinedMetricWarning: F-score is ill-defined and being set to 0.0 in samples with no predicted labels.\n",
      "  'precision', 'predicted', average, warn_for)\n",
      "/Library/Frameworks/Python.framework/Versions/3.5/lib/python3.5/site-packages/sklearn/metrics/classification.py:1143: UndefinedMetricWarning: F-score is ill-defined and being set to 0.0 in samples with no predicted labels.\n",
      "  'precision', 'predicted', average, warn_for)\n",
      "/Library/Frameworks/Python.framework/Versions/3.5/lib/python3.5/site-packages/sklearn/metrics/classification.py:1143: UndefinedMetricWarning: F-score is ill-defined and being set to 0.0 in samples with no predicted labels.\n",
      "  'precision', 'predicted', average, warn_for)\n",
      "/Library/Frameworks/Python.framework/Versions/3.5/lib/python3.5/site-packages/sklearn/metrics/classification.py:1143: UndefinedMetricWarning: F-score is ill-defined and being set to 0.0 in samples with no predicted labels.\n",
      "  'precision', 'predicted', average, warn_for)\n",
      "/Library/Frameworks/Python.framework/Versions/3.5/lib/python3.5/site-packages/sklearn/metrics/classification.py:1143: UndefinedMetricWarning: F-score is ill-defined and being set to 0.0 in samples with no predicted labels.\n",
      "  'precision', 'predicted', average, warn_for)\n",
      "/Library/Frameworks/Python.framework/Versions/3.5/lib/python3.5/site-packages/sklearn/metrics/classification.py:1143: UndefinedMetricWarning: F-score is ill-defined and being set to 0.0 in samples with no predicted labels.\n",
      "  'precision', 'predicted', average, warn_for)\n",
      "/Library/Frameworks/Python.framework/Versions/3.5/lib/python3.5/site-packages/sklearn/metrics/classification.py:1143: UndefinedMetricWarning: F-score is ill-defined and being set to 0.0 in samples with no predicted labels.\n",
      "  'precision', 'predicted', average, warn_for)\n",
      "/Library/Frameworks/Python.framework/Versions/3.5/lib/python3.5/site-packages/sklearn/metrics/classification.py:1143: UndefinedMetricWarning: F-score is ill-defined and being set to 0.0 in samples with no predicted labels.\n",
      "  'precision', 'predicted', average, warn_for)\n"
     ]
    },
    {
     "name": "stdout",
     "output_type": "stream",
     "text": [
      "Accuracy score: 0.6170316301703163\n",
      "Best params: {'clf__estimator__C': 0.1, 'union__text_features__vectorizer__max_features': 10000}\n",
      "Estimator: Pipeline(memory=None,\n",
      "     steps=[('union', FeatureUnion(n_jobs=None,\n",
      "       transformer_list=[('numeric_features', Pipeline(memory=None,\n",
      "     steps=[('selector', FunctionTransformer(accept_sparse=False, check_inverse=True,\n",
      "          func=<function <lambda> at 0x12a290510>, inv_kw_args=None,\n",
      "          inverse_func=None, kw_ar...e=None, solver='lbfgs',\n",
      "          tol=0.0001, verbose=0, warm_start=False),\n",
      "          n_jobs=None))])\n",
      "Pipeline time: 4.684762001037598\n"
     ]
    },
    {
     "name": "stderr",
     "output_type": "stream",
     "text": [
      "/Library/Frameworks/Python.framework/Versions/3.5/lib/python3.5/site-packages/sklearn/metrics/classification.py:1143: UndefinedMetricWarning: F-score is ill-defined and being set to 0.0 in samples with no predicted labels.\n",
      "  'precision', 'predicted', average, warn_for)\n"
     ]
    }
   ],
   "source": [
    "# add more features\n",
    "\n",
    "start_time=time.time()\n",
    "pipe = Pipeline([\n",
    "    ('union', FeatureUnion( # add both text and metadata to xTr\n",
    "        transformer_list = [\n",
    "            ('numeric_features', Pipeline([\n",
    "                ('selector', get_meta_data)\n",
    "            ])),\n",
    "            ('text_features', Pipeline([\n",
    "                ('selector', get_text_data),\n",
    "                ('vectorizer', vectorizer)\n",
    "            ]))\n",
    "        ]\n",
    "    )),\n",
    "    ('clf', OneVsRestClassifier(default_model))\n",
    "])\n",
    "\n",
    "param_grid = {'union__text_features__vectorizer__max_features': [10000, 30000],\n",
    "              'clf__estimator__C': [0.1, 1]\n",
    "             } \n",
    "grid = GridSearchCV(pipe, param_grid, cv=6, scoring='f1_samples')\n",
    "grid4 = grid.fit(xTr, yTr)\n",
    "\n",
    "print('Accuracy score:',grid4.best_score_)\n",
    "print('Best params:',grid4.best_params_)\n",
    "print('Estimator:',grid4.estimator)\n",
    "\n",
    "end_time=time.time()\n",
    "print(\"Pipeline time:\",end_time-start_time)\n"
   ]
  },
  {
   "cell_type": "code",
   "execution_count": 113,
   "metadata": {
    "_uuid": "97366346b72c100e85e495f8ff7d1689bf4031d1"
   },
   "outputs": [
    {
     "name": "stdout",
     "output_type": "stream",
     "text": [
      "                                           ingredients  \\\n",
      "455  [1/2 part DeKuyper® Pucker® Sour Apple Schnapp...   \n",
      "387  [1 part Jim Beam® Original, 1 part DeKuyper® B...   \n",
      "525  [1/2 part Red Stag by Jim Beam® Black Cherry, ...   \n",
      "488  [1 1/2 parts DeKuyper® Pucker® Berry Fusion Sc...   \n",
      "520  [2 parts Maker's Mark® Bourbon, 1 part Lime Ju...   \n",
      "23   [12 parts (Pinot Grigio or Sauvignon Blanc) Wh...   \n",
      "199  [1 1/2 parts Cruzan® 9 Spiced Rum, 3/4 part Ve...   \n",
      "563  [1 part JDK & Sons™ Crave Chocolate Cherry Liq...   \n",
      "591  [1 part EFFEN® Raspberry Vodka, 2 parts Lemonade]   \n",
      "574  [1 part DeKuyper® Peachtree® Schnapps Liqueur,...   \n",
      "\n",
      "                          name            label           actual  \n",
      "455             Apple Daiquiri         (Sweet,)   (Frozen, Sour)  \n",
      "387        Toffee Drop Martini         (Sweet,)         (Sweet,)  \n",
      "525      Cinnamon Sugar Cookie         (Sweet,)         (Sweet,)  \n",
      "488           Boo-Berry Scream        (Fruity,)        (Fruity,)  \n",
      "520       Maker's Mark® Mojito         (Sweet,)         (Sweet,)  \n",
      "23         Blue Lagoon Sangria  (Fruity, Sweet)  (Fruity, Sweet)  \n",
      "199                     Take 9               ()         (Sweet,)  \n",
      "563    Chocolate Cherry Colada         (Sweet,)         (Sweet,)  \n",
      "591  EFFEN® Raspberry Lemonade         (Sweet,)   (Fruity, Sour)  \n",
      "574         Kentucky Sweet Tea         (Sweet,)         (Sweet,)  \n"
     ]
    },
    {
     "name": "stderr",
     "output_type": "stream",
     "text": [
      "/Library/Frameworks/Python.framework/Versions/3.5/lib/python3.5/site-packages/ipykernel_launcher.py:4: SettingWithCopyWarning: \n",
      "A value is trying to be set on a copy of a slice from a DataFrame.\n",
      "Try using .loc[row_indexer,col_indexer] = value instead\n",
      "\n",
      "See the caveats in the documentation: http://pandas.pydata.org/pandas-docs/stable/indexing.html#indexing-view-versus-copy\n",
      "  after removing the cwd from sys.path.\n",
      "/Library/Frameworks/Python.framework/Versions/3.5/lib/python3.5/site-packages/ipykernel_launcher.py:5: SettingWithCopyWarning: \n",
      "A value is trying to be set on a copy of a slice from a DataFrame.\n",
      "Try using .loc[row_indexer,col_indexer] = value instead\n",
      "\n",
      "See the caveats in the documentation: http://pandas.pydata.org/pandas-docs/stable/indexing.html#indexing-view-versus-copy\n",
      "  \"\"\"\n"
     ]
    }
   ],
   "source": [
    "pred = grid4.predict(xTe)\n",
    "pred = mlb.inverse_transform(pred)\n",
    "actual = mlb.inverse_transform(yTe)\n",
    "xTe['label'] = pred\n",
    "xTe['actual'] = actual\n",
    "print(xTe[:10])"
   ]
  },
  {
   "cell_type": "code",
   "execution_count": 144,
   "metadata": {
    "_uuid": "9ee369c3065c109f39dc426671331a2bcb8eca92"
   },
   "outputs": [
    {
     "name": "stdout",
     "output_type": "stream",
     "text": [
      "        categories                                        description  \\\n",
      "0               []  Place one ice cube in the glass and add 1 1/2 ...   \n",
      "1               []  Fill a pint glass with ice. Pour vodka and cof...   \n",
      "2      [halloween]  Shake with ice and strain into chilled cocktai...   \n",
      "3               []  Bring all syrup ingredients to a boil in a sma...   \n",
      "4               []  In a blender, combine ice, rum, limeade concen...   \n",
      "5               []  Stir the orange juice, pineapple juice, simple...   \n",
      "6               []  Muddle the sugar into the lime wedges in an ol...   \n",
      "7               []  Cut half a lime into pieces, place in a shaker...   \n",
      "8      [afternoon]  Put ice cubes in collins glass and add lime vo...   \n",
      "9  [party, sports]  Rub rim of cocktail glass with rind of lemon o...   \n",
      "\n",
      "                                         ingredients  \\\n",
      "0  [1 1/2 oz  Advocaat, 8-10 oz cold  Lemonade, 1...   \n",
      "1  [ice cubes, or as needed, 2 fluid ounces vodka...   \n",
      "2  [1 oz  Blanco tequila, 3/4 oz  Blood orange li...   \n",
      "3  [Syrup:, 1 cup sugar, 1 cup water, 1/3 cup pac...   \n",
      "4  [1 cup ice, 1 cup light rum, 1/2 (6 ounce) can...   \n",
      "5  [2 cups fresh orange juice, 2 cups unsweetened...   \n",
      "6  [2 tsp  demerara Sugar, 1 Lime, 2 1/2 oz Cachaca]   \n",
      "7  [½ Lime, 2 tsp Brown sugar, 4 cl Passion fruit...   \n",
      "8              [2 oz  Lime Vodka,   Lemon-lime soda]   \n",
      "9  [2 oz  Tequila, 1 oz  Hot Shot Tropical Fruit ...   \n",
      "\n",
      "                            name            rating  \\\n",
      "0                       Snowball                -1   \n",
      "1              Chocolate Amnesia                 5   \n",
      "2                  Jinx Cocktail                -1   \n",
      "3       Rosemary-Ginger Cocktail  4.57142877578735   \n",
      "4                  Lime Daiquiri                 3   \n",
      "5  Bahama Mama Celebration Drink  3.33333325386047   \n",
      "6                Dark Caipirinha                -1   \n",
      "7                        Ipamena                -1   \n",
      "8                     Lime Giant                -1   \n",
      "9             Hot Shot Margarita                -1   \n",
      "\n",
      "                                             related  \\\n",
      "0  [{'score': 0.8580977009022827, 'name': 'Dolore...   \n",
      "1  [{'score': 0.8044678683517315, 'name': 'Silk S...   \n",
      "2  [{'score': 0.7206109482977048, 'name': 'D'arta...   \n",
      "3  [{'score': 0.7734438850322655, 'name': 'Frostb...   \n",
      "4  [{'score': 1.0, 'name': 'Italian Wedding Cake ...   \n",
      "5  [{'score': 0.9022785312971733, 'name': 'Carre ...   \n",
      "6  [{'score': 0.8035417513666415, 'name': 'Calimo...   \n",
      "7  [{'score': 0.894413221242371, 'name': 'Apple B...   \n",
      "8  [{'score': 0.818272269667349, 'name': 'Greyhou...   \n",
      "9  [{'score': 0.9969293267614558, 'name': 'Prom N...   \n",
      "\n",
      "                                             reviews  \\\n",
      "0                                                 []   \n",
      "1  [{'stars': '5', 'body': 'If you like white Rus...   \n",
      "2                                                 []   \n",
      "3  [{'stars': '4', 'body': 'Flavors are great, bu...   \n",
      "4  [{'stars': '4', 'body': 'I think the first rev...   \n",
      "5  [{'stars': '4', 'body': 'I cut this down to tw...   \n",
      "6                                                 []   \n",
      "7                                                 []   \n",
      "8                                                 []   \n",
      "9                                                 []   \n",
      "\n",
      "                                                 src       tags  \n",
      "0  http://www.thecocktaildb.com/images/media/drin...   (Sweet,)  \n",
      "1  https://images.media-allrecipes.com/userphotos...   (Sweet,)  \n",
      "2  http://worldartsme.com/images/cocktail-glass-c...         ()  \n",
      "3  https://images.media-allrecipes.com/userphotos...   (Sweet,)  \n",
      "4  https://images.media-allrecipes.com/userphotos...   (Sweet,)  \n",
      "5  https://images.media-allrecipes.com/userphotos...  (Fruity,)  \n",
      "6  http://www.thecocktaildb.com/images/media/drin...         ()  \n",
      "7  http://www.thecocktaildb.com/images/media/drin...         ()  \n",
      "8  http://worldartsme.com/images/cocktail-glass-c...   (Sweet,)  \n",
      "9  http://worldartsme.com/images/cocktail-glass-c...   (Sweet,)  \n"
     ]
    }
   ],
   "source": [
    "# run on actual drink list\n",
    "with open('../app/static/drinks-with-related.json', 'r') as infile:  \n",
    "    jsonData = json.load(infile)\n",
    "    drinklst = jsonData['drinks']\n",
    "    drinks = pd.DataFrame(drinklst)\n",
    "    \n",
    "    pred = grid4.predict(drinks)\n",
    "    pred = mlb.inverse_transform(pred)\n",
    "    \n",
    "    drinks['tags'] = pred\n",
    "    print(drinks[:10])\n",
    "    "
   ]
  },
  {
   "cell_type": "code",
   "execution_count": 161,
   "metadata": {},
   "outputs": [],
   "source": [
    "jsondata = {}\n",
    "jsondata['drinks'] = []\n",
    "for i, drink in drinks.iterrows():\n",
    "    try:\n",
    "        ing = [(b +\" \" + a) for (a,b) in drink['ingredients'] if a != \"\"]\n",
    "    except ValueError:\n",
    "        ing = [a for a in drink['ingredients'] if a != \"\"]\n",
    "        \n",
    "    if 'instructions' in drink:\n",
    "        drink['description'] = drink['instructions']\n",
    "    \n",
    "    jsondata['drinks'].append({\n",
    "        'name' : drink['name'],\n",
    "        'description' : drink['description'],\n",
    "        'src' : drink['src'],\n",
    "        'ingredients' : ing,\n",
    "        'rating' : drink['rating'],\n",
    "        'reviews' : drink.get('reviews', []),\n",
    "        'categories' : drink.get('categories', []),\n",
    "        'related' : drink.get('related', []),\n",
    "        'tags' : drink.get('tags', [])\n",
    "    })"
   ]
  },
  {
   "cell_type": "code",
   "execution_count": 162,
   "metadata": {},
   "outputs": [],
   "source": [
    "with open('../app/static/drinks-with-related-and-tags.json', 'w') as outfile:  \n",
    "    json.dump(jsondata, outfile)"
   ]
  },
  {
   "cell_type": "code",
   "execution_count": null,
   "metadata": {},
   "outputs": [],
   "source": []
  }
 ],
 "metadata": {
  "kernelspec": {
   "display_name": ".venv2",
   "language": "python",
   "name": ".venv2"
  },
  "language_info": {
   "codemirror_mode": {
    "name": "ipython",
    "version": 3
   },
   "file_extension": ".py",
   "mimetype": "text/x-python",
   "name": "python",
   "nbconvert_exporter": "python",
   "pygments_lexer": "ipython3",
   "version": "3.5.2"
  }
 },
 "nbformat": 4,
 "nbformat_minor": 1
}
