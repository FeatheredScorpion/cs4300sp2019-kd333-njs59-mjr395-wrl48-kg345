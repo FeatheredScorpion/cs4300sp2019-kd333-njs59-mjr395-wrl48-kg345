{
 "cells": [
  {
   "cell_type": "code",
   "execution_count": 1,
   "metadata": {},
   "outputs": [],
   "source": [
    "import json, urllib"
   ]
  },
  {
   "cell_type": "code",
   "execution_count": 2,
   "metadata": {},
   "outputs": [
    {
     "name": "stdout",
     "output_type": "stream",
     "text": [
      "['\\ufeffname', 'category', 'measurement-1', 'ingredient-1', 'measurement-2', 'ingredient-2', 'measurement-3', 'ingredient-3', 'measurement-4', 'ingredient-4', 'measurement-5', 'ingredient-5', 'measurement-6', 'ingredient-6', 'instructions', 'glass', 'glass-size']\n"
     ]
    }
   ],
   "source": [
    "import csv\n",
    "import locale\n",
    "import collections\n",
    "\n",
    "DrinkInfo = collections.namedtuple('DrinkInfo', 'name ingredients instructions glass src')\n",
    "\n",
    "locale.setlocale( locale.LC_ALL, 'en_US.UTF-8' ) \n",
    "\n",
    "drinkByName = dict()\n",
    "\n",
    "with open('mr-boston-flattened.csv') as csvfile:\n",
    "    reader = csv.reader(csvfile, delimiter=',')\n",
    "    line_count = 0\n",
    "    \n",
    "    for row in reader:\n",
    "        line_count += 1\n",
    "        if line_count == 1:\n",
    "            print(row)\n",
    "            \n",
    "        else:\n",
    "            \n",
    "            name = row[0]\n",
    "            \n",
    "            ingredients = list()\n",
    "            for i in range(0, 6):\n",
    "                ing = (row[3+i*2], row[2+i*2])\n",
    "                ingredients.append(ing)\n",
    "            \n",
    "            drink = DrinkInfo(name=name, ingredients=ingredients, instructions=row[14], glass=(row[15], row[16]),\n",
    "                             src = \"http://worldartsme.com/images/cocktail-glass-clipart-1.jpg\")\n",
    "            \n",
    "            drinkByName[name] = drink"
   ]
  },
  {
   "cell_type": "code",
   "execution_count": 3,
   "metadata": {},
   "outputs": [
    {
     "name": "stdout",
     "output_type": "stream",
     "text": [
      "['', 'strDrink', 'dateModified', 'idDrink', 'strAlcoholic', 'strCategory', 'strDrinkThumb', 'strGlass', 'strIBA', 'strIngredient1', 'strIngredient10', 'strIngredient11', 'strIngredient12', 'strIngredient13', 'strIngredient14', 'strIngredient15', 'strIngredient2', 'strIngredient3', 'strIngredient4', 'strIngredient5', 'strIngredient6', 'strIngredient7', 'strIngredient8', 'strIngredient9', 'strInstructions', 'strMeasure1', 'strMeasure10', 'strMeasure11', 'strMeasure12', 'strMeasure13', 'strMeasure14', 'strMeasure15', 'strMeasure2', 'strMeasure3', 'strMeasure4', 'strMeasure5', 'strMeasure6', 'strMeasure7', 'strMeasure8', 'strMeasure9', 'strVideo']\n"
     ]
    }
   ],
   "source": [
    "with open('all_drinks.csv') as csvfile:\n",
    "    reader = csv.reader(csvfile, delimiter=',')\n",
    "    line_count = 0\n",
    "    \n",
    "    for row in reader:\n",
    "        line_count += 1\n",
    "        if line_count == 1:\n",
    "            print(row)\n",
    "            \n",
    "        else:\n",
    "            \n",
    "            name = row[1]\n",
    "            \n",
    "            ingredients = list()\n",
    "            ing = (row[9], row[25])\n",
    "            for i in range(7,15):\n",
    "                ing = (row[9+i], row[25+i])\n",
    "                ingredients.append(ing)\n",
    "            for i in range(1, 7):\n",
    "                ing = (row[9+i], row[25+i])\n",
    "                ingredients.append(ing)\n",
    "                \n",
    "            src = row[6]\n",
    "            if src == '':\n",
    "                src = src = \"http://worldartsme.com/images/cocktail-glass-clipart-1.jpg\"\n",
    "            \n",
    "            drink = DrinkInfo(name=name, ingredients=ingredients, instructions=row[24], glass=('',''),\n",
    "                             src = src)\n",
    "            \n",
    "            drinkByName[name] = drink\n",
    "            \n",
    "        "
   ]
  },
  {
   "cell_type": "code",
   "execution_count": 4,
   "metadata": {},
   "outputs": [],
   "source": [
    "jsondata = {}\n",
    "jsondata['drinks'] = []\n",
    "for drink in drinkByName.values():\n",
    "    ing = [a for (a,b) in drink.ingredients]\n",
    "    jsondata['drinks'].append({\n",
    "        'name' : drink.name,\n",
    "        'description' : drink.instructions,\n",
    "        'src' : drink.src,\n",
    "        'ingredients' : ing\n",
    "    })"
   ]
  },
  {
   "cell_type": "code",
   "execution_count": 5,
   "metadata": {},
   "outputs": [],
   "source": [
    "with open('../app/static/drinks.json', 'w') as outfile:  \n",
    "    json.dump(jsondata, outfile)"
   ]
  },
  {
   "cell_type": "code",
   "execution_count": null,
   "metadata": {},
   "outputs": [],
   "source": []
  }
 ],
 "metadata": {
  "kernelspec": {
   "display_name": "venv",
   "language": "python",
   "name": "venv"
  },
  "language_info": {
   "codemirror_mode": {
    "name": "ipython",
    "version": 3
   },
   "file_extension": ".py",
   "mimetype": "text/x-python",
   "name": "python",
   "nbconvert_exporter": "python",
   "pygments_lexer": "ipython3",
   "version": "3.5.2"
  }
 },
 "nbformat": 4,
 "nbformat_minor": 2
}
